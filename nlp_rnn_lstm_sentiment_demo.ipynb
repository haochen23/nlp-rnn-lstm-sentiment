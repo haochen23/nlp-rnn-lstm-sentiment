{
  "nbformat": 4,
  "nbformat_minor": 0,
  "metadata": {
    "colab": {
      "name": "nlp-rnn-lstm-sentiment-demo.ipynb",
      "provenance": [],
      "collapsed_sections": []
    },
    "kernelspec": {
      "name": "python3",
      "display_name": "Python 3"
    },
    "accelerator": "GPU"
  },
  "cells": [
    {
      "cell_type": "code",
      "metadata": {
        "id": "x4XtWvnjxdMn",
        "colab_type": "code",
        "colab": {
          "resources": {
            "http://localhost:8080/nbextensions/google.colab/files.js": {
              "data": "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",
              "ok": true,
              "headers": [
                [
                  "content-type",
                  "application/javascript"
                ]
              ],
              "status": 200,
              "status_text": ""
            }
          },
          "base_uri": "https://localhost:8080/",
          "height": 73
        },
        "outputId": "cc04dd29-ec28-49e3-83b5-cc8422e6f340"
      },
      "source": [
        "! pip install -q kaggle\n",
        "\n",
        "import os\n",
        "from google.colab import files\n",
        "\n",
        "if not os.path.exists(\"/root/.kaggle/kaggle.json\"):\n",
        "  files.upload()\n",
        "  ! mkdir -p ~/.kaggle\n",
        "  ! mv kaggle.json ~/.kaggle/ \n",
        "  ! chmod 600 ~/.kaggle/kaggle.json"
      ],
      "execution_count": 2,
      "outputs": [
        {
          "output_type": "display_data",
          "data": {
            "text/html": [
              "\n",
              "     <input type=\"file\" id=\"files-9480b406-2d2b-41d2-8a6b-5dc407322949\" name=\"files[]\" multiple disabled\n",
              "        style=\"border:none\" />\n",
              "     <output id=\"result-9480b406-2d2b-41d2-8a6b-5dc407322949\">\n",
              "      Upload widget is only available when the cell has been executed in the\n",
              "      current browser session. Please rerun this cell to enable.\n",
              "      </output>\n",
              "      <script src=\"/nbextensions/google.colab/files.js\"></script> "
            ],
            "text/plain": [
              "<IPython.core.display.HTML object>"
            ]
          },
          "metadata": {
            "tags": []
          }
        },
        {
          "output_type": "stream",
          "text": [
            "Saving kaggle.json to kaggle.json\n"
          ],
          "name": "stdout"
        }
      ]
    },
    {
      "cell_type": "code",
      "metadata": {
        "id": "o3VVMseVxmFL",
        "colab_type": "code",
        "colab": {
          "base_uri": "https://localhost:8080/",
          "height": 104
        },
        "outputId": "db28e7bf-c6e2-4742-b2c2-460718e1df2e"
      },
      "source": [
        "!kaggle datasets download fullmetal26/glovetwitter27b100dtxt \n",
        "!unzip glovetwitter27b100dtxt.zip"
      ],
      "execution_count": 3,
      "outputs": [
        {
          "output_type": "stream",
          "text": [
            "Downloading glovetwitter27b100dtxt.zip to /content\n",
            " 99% 770M/778M [00:14<00:00, 54.3MB/s]\n",
            "100% 778M/778M [00:14<00:00, 57.8MB/s]\n",
            "Archive:  glovetwitter27b100dtxt.zip\n",
            "  inflating: glove.twitter.27B.200d.txt  \n"
          ],
          "name": "stdout"
        }
      ]
    },
    {
      "cell_type": "code",
      "metadata": {
        "id": "LUDYEREAydsp",
        "colab_type": "code",
        "colab": {}
      },
      "source": [
        "import tensorflow.keras\n",
        "from tensorflow.keras.models import Sequential\n",
        "from tensorflow.keras.layers import InputLayer, Dense, SimpleRNN, Activation, Dropout, Conv1D\n",
        "from tensorflow.keras.layers import Embedding, Flatten, LSTM, GRU\n",
        "from tensorflow.keras.preprocessing.text import Tokenizer\n",
        "from tensorflow.keras.preprocessing.sequence import pad_sequences\n",
        "from tensorflow.keras.callbacks import EarlyStopping\n",
        "import pandas as pd\n",
        "import numpy as np\n",
        "import spacy\n",
        "from sklearn.metrics import classification_report"
      ],
      "execution_count": 19,
      "outputs": []
    },
    {
      "cell_type": "code",
      "metadata": {
        "id": "PpCzwdqF1V28",
        "colab_type": "code",
        "colab": {
          "base_uri": "https://localhost:8080/",
          "height": 52
        },
        "outputId": "9de47a3d-510d-4071-ec12-4ad59441db92"
      },
      "source": [
        "def load_glove_model(glove_file):\n",
        "    print(\"[INFO]Loading GloVe Model...\")\n",
        "    model = {}\n",
        "    with open(glove_file, 'r') as f:\n",
        "        for line in f:\n",
        "            split_line = line.split()\n",
        "            word = split_line[0]\n",
        "            embeddings = [float(val) for val in split_line[1:]]\n",
        "            model[word] = embeddings\n",
        "    print(\"[INFO] Done...{} words loaded!\".format(len(model)))\n",
        "    return model\n",
        "glove_model = load_glove_model(\"glove.twitter.27B.200d.txt\")"
      ],
      "execution_count": 5,
      "outputs": [
        {
          "output_type": "stream",
          "text": [
            "[INFO]Loading GloVe Model...\n",
            "[INFO] Done...1193514 words loaded!\n"
          ],
          "name": "stdout"
        }
      ]
    },
    {
      "cell_type": "code",
      "metadata": {
        "id": "OfhlThm6d-Z3",
        "colab_type": "code",
        "colab": {}
      },
      "source": [
        "# adopted from utils.py\n",
        "nlp = spacy.load(\"en\")\n",
        "\n",
        "def remove_stopwords(sentence):\n",
        "    '''\n",
        "    function to remove stopwords\n",
        "        input: sentence - string of sentence\n",
        "    '''\n",
        "    new = []\n",
        "    # tokenize sentence\n",
        "    sentence = nlp(sentence)\n",
        "    for tk in sentence:\n",
        "        if (tk.is_stop == False) & (tk.pos_ !=\"PUNCT\"):\n",
        "            new.append(tk.string.strip())\n",
        "    # convert back to sentence string\n",
        "    c = \" \".join(str(x) for x in new)\n",
        "    return c\n",
        "\n",
        "\n",
        "def lemmatize(sentence):\n",
        "    '''\n",
        "    function to do lemmatization\n",
        "        input: sentence - string of sentence\n",
        "    '''\n",
        "    sentence = nlp(sentence)\n",
        "    s = \"\"\n",
        "    for w in sentence:\n",
        "        s +=\" \"+w.lemma_\n",
        "    return nlp(s)\n",
        "\n",
        "def sent_vectorizer(sent, model):\n",
        "    '''\n",
        "    sentence vectorizer using the pretrained glove model\n",
        "    '''\n",
        "    sent_vector = np.zeros(200)\n",
        "    num_w = 0\n",
        "    for w in sent.split():\n",
        "        try:\n",
        "            # add up all token vectors to a sent_vector\n",
        "            sent_vector = np.add(sent_vector, model[str(w)])\n",
        "            num_w += 1\n",
        "        except:\n",
        "            pass\n",
        "    return sent_vector"
      ],
      "execution_count": 6,
      "outputs": []
    },
    {
      "cell_type": "code",
      "metadata": {
        "id": "AQo2fseg2TIu",
        "colab_type": "code",
        "colab": {
          "base_uri": "https://localhost:8080/",
          "height": 208
        },
        "outputId": "f2170570-9665-4faf-9924-28fd5ddd2d3c"
      },
      "source": [
        "!wget https://raw.githubusercontent.com/haochen23/nlp-rnn-lstm-sentiment/master/training.1600000.processed.noemoticon.csv"
      ],
      "execution_count": 7,
      "outputs": [
        {
          "output_type": "stream",
          "text": [
            "--2020-06-19 10:20:33--  https://raw.githubusercontent.com/haochen23/nlp-rnn-lstm-sentiment/master/training.1600000.processed.noemoticon.csv\n",
            "Resolving raw.githubusercontent.com (raw.githubusercontent.com)... 151.101.0.133, 151.101.64.133, 151.101.128.133, ...\n",
            "Connecting to raw.githubusercontent.com (raw.githubusercontent.com)|151.101.0.133|:443... connected.\n",
            "HTTP request sent, awaiting response... 200 OK\n",
            "Length: 2989873 (2.9M) [text/plain]\n",
            "Saving to: ‘training.1600000.processed.noemoticon.csv’\n",
            "\n",
            "training.1600000.pr 100%[===================>]   2.85M  --.-KB/s    in 0.1s    \n",
            "\n",
            "2020-06-19 10:20:34 (20.5 MB/s) - ‘training.1600000.processed.noemoticon.csv’ saved [2989873/2989873]\n",
            "\n"
          ],
          "name": "stdout"
        }
      ]
    },
    {
      "cell_type": "code",
      "metadata": {
        "id": "TFAlVSfR-LOf",
        "colab_type": "code",
        "colab": {
          "base_uri": "https://localhost:8080/",
          "height": 219
        },
        "outputId": "69b9b453-ddb3-41aa-9c63-51afa49fa1fd"
      },
      "source": [
        "data = pd.read_csv(\"training.1600000.processed.noemoticon.csv\", header=None, encoding='latin-1')\n",
        "print(data.shape)\n",
        "data.head()"
      ],
      "execution_count": 8,
      "outputs": [
        {
          "output_type": "stream",
          "text": [
            "(20000, 6)\n"
          ],
          "name": "stdout"
        },
        {
          "output_type": "execute_result",
          "data": {
            "text/html": [
              "<div>\n",
              "<style scoped>\n",
              "    .dataframe tbody tr th:only-of-type {\n",
              "        vertical-align: middle;\n",
              "    }\n",
              "\n",
              "    .dataframe tbody tr th {\n",
              "        vertical-align: top;\n",
              "    }\n",
              "\n",
              "    .dataframe thead th {\n",
              "        text-align: right;\n",
              "    }\n",
              "</style>\n",
              "<table border=\"1\" class=\"dataframe\">\n",
              "  <thead>\n",
              "    <tr style=\"text-align: right;\">\n",
              "      <th></th>\n",
              "      <th>0</th>\n",
              "      <th>1</th>\n",
              "      <th>2</th>\n",
              "      <th>3</th>\n",
              "      <th>4</th>\n",
              "      <th>5</th>\n",
              "    </tr>\n",
              "  </thead>\n",
              "  <tbody>\n",
              "    <tr>\n",
              "      <th>0</th>\n",
              "      <td>0</td>\n",
              "      <td>1467810369</td>\n",
              "      <td>Mon Apr 06 22:19:45 PDT 2009</td>\n",
              "      <td>NO_QUERY</td>\n",
              "      <td>_TheSpecialOne_</td>\n",
              "      <td>@switchfoot http://twitpic.com/2y1zl - Awww, t...</td>\n",
              "    </tr>\n",
              "    <tr>\n",
              "      <th>1</th>\n",
              "      <td>0</td>\n",
              "      <td>1467810672</td>\n",
              "      <td>Mon Apr 06 22:19:49 PDT 2009</td>\n",
              "      <td>NO_QUERY</td>\n",
              "      <td>scotthamilton</td>\n",
              "      <td>is upset that he can't update his Facebook by ...</td>\n",
              "    </tr>\n",
              "    <tr>\n",
              "      <th>2</th>\n",
              "      <td>0</td>\n",
              "      <td>1467810917</td>\n",
              "      <td>Mon Apr 06 22:19:53 PDT 2009</td>\n",
              "      <td>NO_QUERY</td>\n",
              "      <td>mattycus</td>\n",
              "      <td>@Kenichan I dived many times for the ball. Man...</td>\n",
              "    </tr>\n",
              "    <tr>\n",
              "      <th>3</th>\n",
              "      <td>0</td>\n",
              "      <td>1467811184</td>\n",
              "      <td>Mon Apr 06 22:19:57 PDT 2009</td>\n",
              "      <td>NO_QUERY</td>\n",
              "      <td>ElleCTF</td>\n",
              "      <td>my whole body feels itchy and like its on fire</td>\n",
              "    </tr>\n",
              "    <tr>\n",
              "      <th>4</th>\n",
              "      <td>0</td>\n",
              "      <td>1467811193</td>\n",
              "      <td>Mon Apr 06 22:19:57 PDT 2009</td>\n",
              "      <td>NO_QUERY</td>\n",
              "      <td>Karoli</td>\n",
              "      <td>@nationwideclass no, it's not behaving at all....</td>\n",
              "    </tr>\n",
              "  </tbody>\n",
              "</table>\n",
              "</div>"
            ],
            "text/plain": [
              "   0  ...                                                  5\n",
              "0  0  ...  @switchfoot http://twitpic.com/2y1zl - Awww, t...\n",
              "1  0  ...  is upset that he can't update his Facebook by ...\n",
              "2  0  ...  @Kenichan I dived many times for the ball. Man...\n",
              "3  0  ...    my whole body feels itchy and like its on fire \n",
              "4  0  ...  @nationwideclass no, it's not behaving at all....\n",
              "\n",
              "[5 rows x 6 columns]"
            ]
          },
          "metadata": {
            "tags": []
          },
          "execution_count": 8
        }
      ]
    },
    {
      "cell_type": "code",
      "metadata": {
        "id": "yVX5M3jV_WOT",
        "colab_type": "code",
        "colab": {}
      },
      "source": [
        "data_X = data[data.columns[5]]\n",
        "data_y = data[data.columns[0]]\n",
        "data_y = pd.get_dummies(data_y)"
      ],
      "execution_count": 9,
      "outputs": []
    },
    {
      "cell_type": "code",
      "metadata": {
        "id": "vt_DCR2SGvGR",
        "colab_type": "code",
        "colab": {
          "base_uri": "https://localhost:8080/",
          "height": 139
        },
        "outputId": "41ae2334-8924-4892-9257-13c1c5aa263c"
      },
      "source": [
        "data_y = data_y.to_numpy()\n",
        "data_y"
      ],
      "execution_count": 10,
      "outputs": [
        {
          "output_type": "execute_result",
          "data": {
            "text/plain": [
              "array([[1, 0],\n",
              "       [1, 0],\n",
              "       [1, 0],\n",
              "       ...,\n",
              "       [0, 1],\n",
              "       [0, 1],\n",
              "       [0, 1]], dtype=uint8)"
            ]
          },
          "metadata": {
            "tags": []
          },
          "execution_count": 10
        }
      ]
    },
    {
      "cell_type": "code",
      "metadata": {
        "id": "SMpyUa8Dt8zH",
        "colab_type": "code",
        "colab": {}
      },
      "source": [
        "max_vocab = 18000\n",
        "max_len = 15\n",
        "tokenizer = Tokenizer(num_words=max_vocab)"
      ],
      "execution_count": 11,
      "outputs": []
    },
    {
      "cell_type": "code",
      "metadata": {
        "id": "m2mtdUG0uN8Z",
        "colab_type": "code",
        "colab": {
          "base_uri": "https://localhost:8080/",
          "height": 121
        },
        "outputId": "02383868-c705-4a8e-f391-89715180b4b1"
      },
      "source": [
        "data_X = data_X.to_numpy()\n",
        "print(data_X)\n",
        "tokenizer.fit_on_texts(data_X)\n",
        "sequences = tokenizer.texts_to_sequences(data_X)\n",
        "word_index = tokenizer.word_index\n"
      ],
      "execution_count": 12,
      "outputs": [
        {
          "output_type": "stream",
          "text": [
            "[\"@switchfoot http://twitpic.com/2y1zl - Awww, that's a bummer.  You shoulda got David Carr of Third Day to do it. ;D\"\n",
            " \"is upset that he can't update his Facebook by texting it... and might cry as a result  School today also. Blah!\"\n",
            " '@Kenichan I dived many times for the ball. Managed to save 50%  The rest go out of bounds'\n",
            " ... 'Are you ready for your MoJo Makeover? Ask me for details '\n",
            " 'Happy 38th Birthday to my boo of alll time!!! Tupac Amaru Shakur '\n",
            " 'happy #charitytuesday @theNSPCC @SparksCharity @SpeakingUpH4H ']\n"
          ],
          "name": "stdout"
        }
      ]
    },
    {
      "cell_type": "code",
      "metadata": {
        "id": "FbJ6pmtyue9k",
        "colab_type": "code",
        "colab": {
          "base_uri": "https://localhost:8080/",
          "height": 35
        },
        "outputId": "af66fea2-2937-482b-a607-225a3a24d282"
      },
      "source": [
        "print('Found %s unique tokens.' % len(word_index))"
      ],
      "execution_count": 13,
      "outputs": [
        {
          "output_type": "stream",
          "text": [
            "Found 30256 unique tokens.\n"
          ],
          "name": "stdout"
        }
      ]
    },
    {
      "cell_type": "code",
      "metadata": {
        "id": "cd230kpIvde3",
        "colab_type": "code",
        "colab": {
          "base_uri": "https://localhost:8080/",
          "height": 35
        },
        "outputId": "c58f25c8-28b0-427a-b6c1-3fac5003a330"
      },
      "source": [
        "data_keras = pad_sequences(sequences, maxlen=max_len, padding=\"post\")\n",
        "# data_keras = data_keras.reshape(data_X.shape[0], 15, 1)\n",
        "data_keras.shape\n",
        "\n"
      ],
      "execution_count": 14,
      "outputs": [
        {
          "output_type": "execute_result",
          "data": {
            "text/plain": [
              "(20000, 15)"
            ]
          },
          "metadata": {
            "tags": []
          },
          "execution_count": 14
        }
      ]
    },
    {
      "cell_type": "code",
      "metadata": {
        "id": "eBWMDqltvnHK",
        "colab_type": "code",
        "colab": {}
      },
      "source": [
        "from sklearn.model_selection import train_test_split\n",
        "train_X, valid_X, train_y, valid_y = train_test_split(data_keras, data_y, test_size = 0.3, random_state=42)"
      ],
      "execution_count": 15,
      "outputs": []
    },
    {
      "cell_type": "code",
      "metadata": {
        "id": "w6didFc14I-9",
        "colab_type": "code",
        "colab": {
          "base_uri": "https://localhost:8080/",
          "height": 35
        },
        "outputId": "ba8627e3-cd75-472b-b0fc-045a5eb5b732"
      },
      "source": [
        "# calcultaete number of words\n",
        "nb_words = len(tokenizer.word_index) + 1\n",
        "\n",
        "# obtain the word embedding matrix\n",
        "embedding_matrix = np.zeros((nb_words, 200))\n",
        "for word, i in word_index.items():\n",
        "    embedding_vector = glove_model.get(word)\n",
        "    if embedding_vector is not None:\n",
        "        embedding_matrix[i] = embedding_vector\n",
        "print('Null word embeddings: %d' % np.sum(np.sum(embedding_matrix, axis=1) == 0))"
      ],
      "execution_count": 16,
      "outputs": [
        {
          "output_type": "stream",
          "text": [
            "Null word embeddings: 12567\n"
          ],
          "name": "stdout"
        }
      ]
    },
    {
      "cell_type": "code",
      "metadata": {
        "id": "dLfSN1Is43Kl",
        "colab_type": "code",
        "colab": {}
      },
      "source": [
        "# adopted from sent_tran_eval.py\n",
        "def build_model(nb_words, rnn_model=\"SimpleRNN\", embedding_matrix=None):\n",
        "    '''\n",
        "    build_model function:\n",
        "    inputs: \n",
        "        rnn_model - which type of RNN layer to use, choose in (SimpleRNN, LSTM, GRU)\n",
        "        embedding_matrix - whether to use pretrained embeddings or not\n",
        "    '''\n",
        "    model = Sequential()\n",
        "    # add an embedding layer\n",
        "    if embedding_matrix is not None:\n",
        "        model.add(Embedding(nb_words, \n",
        "                        200, \n",
        "                        weights=[embedding_matrix], \n",
        "                        input_length= max_len,\n",
        "                        trainable = False))\n",
        "    else:\n",
        "        model.add(Embedding(nb_words, \n",
        "                        200, \n",
        "                        input_length= max_len,\n",
        "                        trainable = False))\n",
        "        \n",
        "    # add an RNN layer according to rnn_model\n",
        "    if rnn_model == \"SimpleRNN\":\n",
        "        model.add(SimpleRNN(200))\n",
        "    elif rnn_model == \"LSTM\":\n",
        "        model.add(LSTM(200))\n",
        "    else:\n",
        "        model.add(GRU(200))\n",
        "    # model.add(Dense(500,activation='relu'))\n",
        "    # model.add(Dense(500, activation='relu'))\n",
        "    model.add(Dense(2, activation='softmax'))\n",
        "    \n",
        "    model.compile(loss='categorical_crossentropy', \n",
        "                optimizer='adam',\n",
        "                metrics=['accuracy'])\n",
        "    return model"
      ],
      "execution_count": 22,
      "outputs": []
    },
    {
      "cell_type": "code",
      "metadata": {
        "id": "3QoxYEfl6zr5",
        "colab_type": "code",
        "colab": {
          "base_uri": "https://localhost:8080/",
          "height": 416
        },
        "outputId": "c8593b21-030a-41f8-fc37-696473c89a1d"
      },
      "source": [
        "model_rnn = build_model(nb_words, \"SimpleRNN\", embedding_matrix)\n",
        "model_rnn.fit(train_X, train_y, epochs=20, batch_size=120,\n",
        "          validation_data=(valid_X, valid_y), callbacks=EarlyStopping(monitor='val_accuracy', mode='max',patience=3))\n",
        "predictions = model_rnn.predict(valid_X)\n",
        "predictions = predictions.argmax(axis=1)\n",
        "print(classification_report(valid_y.argmax(axis=1), predictions))"
      ],
      "execution_count": 23,
      "outputs": [
        {
          "output_type": "stream",
          "text": [
            "Epoch 1/20\n",
            "117/117 [==============================] - 4s 38ms/step - loss: 0.5867 - accuracy: 0.6791 - val_loss: 0.5106 - val_accuracy: 0.7390\n",
            "Epoch 2/20\n",
            "117/117 [==============================] - 4s 36ms/step - loss: 0.4854 - accuracy: 0.7678 - val_loss: 0.5161 - val_accuracy: 0.7440\n",
            "Epoch 3/20\n",
            "117/117 [==============================] - 4s 32ms/step - loss: 0.4419 - accuracy: 0.7939 - val_loss: 0.5366 - val_accuracy: 0.7468\n",
            "Epoch 4/20\n",
            "117/117 [==============================] - 4s 34ms/step - loss: 0.4068 - accuracy: 0.8162 - val_loss: 0.5075 - val_accuracy: 0.7685\n",
            "Epoch 5/20\n",
            "117/117 [==============================] - 4s 32ms/step - loss: 0.3717 - accuracy: 0.8358 - val_loss: 0.5024 - val_accuracy: 0.7648\n",
            "Epoch 6/20\n",
            "117/117 [==============================] - 4s 35ms/step - loss: 0.3343 - accuracy: 0.8541 - val_loss: 0.5503 - val_accuracy: 0.7512\n",
            "Epoch 7/20\n",
            "117/117 [==============================] - 4s 33ms/step - loss: 0.2923 - accuracy: 0.8791 - val_loss: 0.5762 - val_accuracy: 0.7637\n",
            "              precision    recall  f1-score   support\n",
            "\n",
            "           0       0.75      0.80      0.77      3016\n",
            "           1       0.78      0.73      0.75      2984\n",
            "\n",
            "    accuracy                           0.76      6000\n",
            "   macro avg       0.76      0.76      0.76      6000\n",
            "weighted avg       0.76      0.76      0.76      6000\n",
            "\n"
          ],
          "name": "stdout"
        }
      ]
    },
    {
      "cell_type": "code",
      "metadata": {
        "id": "Yhj2fWHW-MZB",
        "colab_type": "code",
        "colab": {
          "base_uri": "https://localhost:8080/",
          "height": 555
        },
        "outputId": "4eb34562-a52a-4d71-f9b4-8572f4bf7722"
      },
      "source": [
        "model_lstm = build_model(nb_words, \"LSTM\", embedding_matrix)\n",
        "model_lstm.fit(train_X, train_y, epochs=20, batch_size=120,\n",
        "          validation_data=(valid_X, valid_y), callbacks=EarlyStopping(monitor='val_accuracy', mode='max',patience=3))\n",
        "predictions = model_lstm.predict(valid_X)\n",
        "predictions = predictions.argmax(axis=1)\n",
        "print(classification_report(valid_y.argmax(axis=1), predictions))\n"
      ],
      "execution_count": 24,
      "outputs": [
        {
          "output_type": "stream",
          "text": [
            "Epoch 1/20\n",
            "117/117 [==============================] - 11s 96ms/step - loss: 0.5433 - accuracy: 0.7152 - val_loss: 0.4865 - val_accuracy: 0.7682\n",
            "Epoch 2/20\n",
            "117/117 [==============================] - 11s 93ms/step - loss: 0.4775 - accuracy: 0.7679 - val_loss: 0.4858 - val_accuracy: 0.7667\n",
            "Epoch 3/20\n",
            "117/117 [==============================] - 11s 93ms/step - loss: 0.4545 - accuracy: 0.7835 - val_loss: 0.4625 - val_accuracy: 0.7797\n",
            "Epoch 4/20\n",
            "117/117 [==============================] - 11s 94ms/step - loss: 0.4278 - accuracy: 0.8028 - val_loss: 0.4629 - val_accuracy: 0.7750\n",
            "Epoch 5/20\n",
            "117/117 [==============================] - 11s 93ms/step - loss: 0.4011 - accuracy: 0.8149 - val_loss: 0.4584 - val_accuracy: 0.7858\n",
            "Epoch 6/20\n",
            "117/117 [==============================] - 11s 94ms/step - loss: 0.3681 - accuracy: 0.8336 - val_loss: 0.4475 - val_accuracy: 0.7867\n",
            "Epoch 7/20\n",
            "117/117 [==============================] - 11s 96ms/step - loss: 0.3320 - accuracy: 0.8546 - val_loss: 0.4769 - val_accuracy: 0.7773\n",
            "Epoch 8/20\n",
            "117/117 [==============================] - 11s 93ms/step - loss: 0.2922 - accuracy: 0.8755 - val_loss: 0.4790 - val_accuracy: 0.7917\n",
            "Epoch 9/20\n",
            "117/117 [==============================] - 11s 94ms/step - loss: 0.2516 - accuracy: 0.8962 - val_loss: 0.5357 - val_accuracy: 0.7782\n",
            "Epoch 10/20\n",
            "117/117 [==============================] - 11s 95ms/step - loss: 0.2090 - accuracy: 0.9175 - val_loss: 0.6129 - val_accuracy: 0.7627\n",
            "Epoch 11/20\n",
            "117/117 [==============================] - 11s 94ms/step - loss: 0.1570 - accuracy: 0.9421 - val_loss: 0.6390 - val_accuracy: 0.7767\n",
            "              precision    recall  f1-score   support\n",
            "\n",
            "           0       0.76      0.81      0.78      3016\n",
            "           1       0.79      0.75      0.77      2984\n",
            "\n",
            "    accuracy                           0.78      6000\n",
            "   macro avg       0.78      0.78      0.78      6000\n",
            "weighted avg       0.78      0.78      0.78      6000\n",
            "\n"
          ],
          "name": "stdout"
        }
      ]
    },
    {
      "cell_type": "code",
      "metadata": {
        "id": "i8aoae6jN7tJ",
        "colab_type": "code",
        "colab": {
          "base_uri": "https://localhost:8080/",
          "height": 451
        },
        "outputId": "2aebcd97-b754-475b-e427-39ed1677f7c1"
      },
      "source": [
        "model_gru = build_model(nb_words, \"GRU\", embedding_matrix)\n",
        "model_gru.fit(train_X, train_y, epochs=20, batch_size=120,\n",
        "          validation_data=(valid_X, valid_y), callbacks=EarlyStopping(monitor='val_accuracy', mode='max',patience=3))\n",
        "predictions = model_gru.predict(valid_X)\n",
        "predictions = predictions.argmax(axis=1)\n",
        "print(classification_report(valid_y.argmax(axis=1), predictions))"
      ],
      "execution_count": 25,
      "outputs": [
        {
          "output_type": "stream",
          "text": [
            "Epoch 1/20\n",
            "117/117 [==============================] - 10s 82ms/step - loss: 0.5690 - accuracy: 0.6926 - val_loss: 0.4837 - val_accuracy: 0.7698\n",
            "Epoch 2/20\n",
            "117/117 [==============================] - 9s 79ms/step - loss: 0.4757 - accuracy: 0.7695 - val_loss: 0.4635 - val_accuracy: 0.7838\n",
            "Epoch 3/20\n",
            "117/117 [==============================] - 9s 79ms/step - loss: 0.4435 - accuracy: 0.7888 - val_loss: 0.4606 - val_accuracy: 0.7832\n",
            "Epoch 4/20\n",
            "117/117 [==============================] - 9s 79ms/step - loss: 0.4178 - accuracy: 0.8041 - val_loss: 0.4696 - val_accuracy: 0.7742\n",
            "Epoch 5/20\n",
            "117/117 [==============================] - 9s 78ms/step - loss: 0.3847 - accuracy: 0.8267 - val_loss: 0.4581 - val_accuracy: 0.7848\n",
            "Epoch 6/20\n",
            "117/117 [==============================] - 9s 79ms/step - loss: 0.3462 - accuracy: 0.8485 - val_loss: 0.4884 - val_accuracy: 0.7735\n",
            "Epoch 7/20\n",
            "117/117 [==============================] - 9s 78ms/step - loss: 0.3062 - accuracy: 0.8688 - val_loss: 0.4865 - val_accuracy: 0.7833\n",
            "Epoch 8/20\n",
            "117/117 [==============================] - 9s 79ms/step - loss: 0.2565 - accuracy: 0.8961 - val_loss: 0.5268 - val_accuracy: 0.7807\n",
            "              precision    recall  f1-score   support\n",
            "\n",
            "           0       0.75      0.84      0.79      3016\n",
            "           1       0.81      0.72      0.77      2984\n",
            "\n",
            "    accuracy                           0.78      6000\n",
            "   macro avg       0.78      0.78      0.78      6000\n",
            "weighted avg       0.78      0.78      0.78      6000\n",
            "\n"
          ],
          "name": "stdout"
        }
      ]
    },
    {
      "cell_type": "code",
      "metadata": {
        "id": "jWzBeclqH6i2",
        "colab_type": "code",
        "colab": {}
      },
      "source": [
        ""
      ],
      "execution_count": null,
      "outputs": []
    }
  ]
}